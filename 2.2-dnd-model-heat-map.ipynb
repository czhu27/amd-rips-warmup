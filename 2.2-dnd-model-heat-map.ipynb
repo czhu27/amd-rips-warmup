{
 "cells": [
  {
   "cell_type": "code",
   "execution_count": 1,
   "metadata": {},
   "outputs": [],
   "source": [
    "import numpy as np\n",
    "import tensorflow as tf\n",
    "path = \"output/wave/single/test/run_20210715-091023/trial_0/model\"\n",
    "model = tf.keras.models.load_model(path)"
   ]
  },
  {
   "cell_type": "code",
   "execution_count": 59,
   "metadata": {},
   "outputs": [],
   "source": [
    "from matplotlib import pyplot as plt\n",
    "\n",
    "n1d = 20\n",
    "npts = n1d*n1d\n",
    "lb=0; ub=1\n",
    "x_lin = np.linspace(lb, ub, n1d)\n",
    "y_lin = np.linspace(lb, ub, n1d)\n",
    "t_lin = np.linspace(0, 2, 2*n1d)\n",
    "t_g, x_g, y_g = np.meshgrid(t_lin, x_lin, y_lin, indexing=\"ij\")\n",
    "def flatten_end(arr):\n",
    "    return arr.reshape(arr.shape[0], -1)\n",
    "\n",
    "x = flatten_end(x_g)\n",
    "y = flatten_end(y_g)\n",
    "t = flatten_end(t_g)\n",
    "\n",
    "# plt.scatter(x, y, s=0.2)\n",
    "\n",
    "# fig = plt.figure()\n",
    "# ax = fig.add_subplot(projection='3d')\n",
    "# ax.scatter(x,y,t, s=0.5)\n",
    "\n",
    "X = np.stack([x,y,t], axis=-1)\n",
    "p_mat_arr = np.zeros((len(t_lin), len(x_lin), len(y_lin)))\n",
    "for i, t0 in enumerate(t):\n",
    "    Y_pred = model.predict(X[i])\n",
    "    Y_pred = Y_pred.reshape(len(x_lin), len(y_lin))\n",
    "    p_mat_arr[i] = Y_pred\n",
    "    "
   ]
  },
  {
   "cell_type": "code",
   "execution_count": 60,
   "metadata": {},
   "outputs": [
    {
     "name": "stdout",
     "output_type": "stream",
     "text": [
      "Animation frame: 0. Now 0% done with animation.\n",
      "Animation frame: 0. Now 0% done with animation.\n",
      "Animation frame: 3. Now 8% done with animation.\n",
      "Animation frame: 6. Now 15% done with animation.\n",
      "Animation frame: 9. Now 22% done with animation.\n",
      "Animation frame: 12. Now 30% done with animation.\n",
      "Animation frame: 15. Now 38% done with animation.\n",
      "Animation frame: 18. Now 45% done with animation.\n",
      "Animation frame: 21. Now 52% done with animation.\n",
      "Animation frame: 24. Now 60% done with animation.\n",
      "Animation frame: 27. Now 68% done with animation.\n",
      "Animation frame: 30. Now 75% done with animation.\n",
      "Animation frame: 33. Now 82% done with animation.\n",
      "Animation frame: 36. Now 90% done with animation.\n",
      "Animation frame: 39. Now 98% done with animation.\n"
     ]
    },
    {
     "data": {
      "image/png": "[encoded data removed]",
      "text/plain": [
       "<Figure size 432x288 with 1 Axes>"
      ]
     },
     "metadata": {
      "needs_background": "light"
     },
     "output_type": "display_data"
    }
   ],
   "source": [
    "from plots import make_heatmap_animation\n",
    "make_heatmap_animation(p_mat_arr, \".\")"
   ]
  },
  {
   "cell_type": "code",
   "execution_count": null,
   "metadata": {},
   "outputs": [],
   "source": [
    "import seaborn as sns\n",
    "from matplotlib import animation\n",
    "\n",
    "def make_heatmap_animation(mat_list, save_dir, R=None, fps = 10):\n",
    "    '''\n",
    "    '''\n",
    "    assert len(mat_list.shape) == 3, \"Needs to be an array, not a list. An array of shape (T,N,M)\"\n",
    "    avg = np.mean(mat_list)\n",
    "    std = np.std(mat_list)\n",
    "    color_spread = 1.5\n",
    "    if R is None:\n",
    "        # Deduce R from matrix\n",
    "        R = np.max([np.abs(avg + color_spread * std), np.abs(avg - color_spread * std)])\n",
    "\n",
    "    fig = plt.figure()\n",
    "    cmap = sns.color_palette(\"coolwarm\", as_cmap=True)\n",
    "\n",
    "    def animate(i):\n",
    "        if i % 3 == 0:\n",
    "            print(f\"Animation frame: {i}. Now {i / len(mat_list) * 100 :.0f}% done with animation.\")\n",
    "        sns.heatmap(mat_list[i],  vmin = -R, vmax= R, square=True, cbar=False, center=0.00, cmap=cmap)\n",
    "        # plt.clf()\n",
    "        # plt.close()\n",
    "\n",
    "    anim = animation.FuncAnimation(fig, animate, frames=len(mat_list), repeat = False)\n",
    "\n",
    "    savefile = save_dir + \"/heatmap.gif\"\n",
    "    pillowwriter = animation.PillowWriter(fps=fps)\n",
    "    anim.save(savefile, writer=pillowwriter)\n",
    "\n",
    "print(\"Making p_mat_list (for heatmap animation)...\")\n",
    "print(\"Making heatmap animation...\")\n",
    "def make_heatmap_animation_clean(mat_arr, mat_arr_dt, figs_folder, anim_dt = None, secs_per_sec = None):\n",
    "    anim_di = int(anim_dt / mat_arr_dt)\n",
    "    every_n_frames = anim_di\n",
    "    fps = secs_per_sec / anim_dt\n",
    "    make_heatmap_animation(mat_arr, save_dir=figs_folder, fps=fps)\n",
    "\n",
    "\n",
    "make_heatmap_animation_clean(p_mat_arr)\n",
    "\n",
    "print(\"Finished making heatmap animation\")\n",
    "\n",
    "make_heatmap_animation(p_mat_arr, \".\")"
   ]
  }
 ],
 "metadata": {
  "interpreter": {
   "hash": "0adcc2737ebf6a4a119f135174df96668767fca1ef1112612db5ecadf2b6d608"
  },
  "kernelspec": {
   "display_name": "Python 3.8.7 64-bit",
   "name": "python3"
  },
  "language_info": {
   "codemirror_mode": {
    "name": "ipython",
    "version": 3
   },
   "file_extension": ".py",
   "mimetype": "text/x-python",
   "name": "python",
   "nbconvert_exporter": "python",
   "pygments_lexer": "ipython3",
   "version": "3.8.7"
  },
  "orig_nbformat": 4
 },
 "nbformat": 4,
 "nbformat_minor": 2
}